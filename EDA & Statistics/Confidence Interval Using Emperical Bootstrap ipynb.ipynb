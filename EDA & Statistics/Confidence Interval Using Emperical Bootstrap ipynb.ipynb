{
 "cells": [
  {
   "cell_type": "markdown",
   "metadata": {
    "id": "fct-NTjcYNZ0"
   },
   "source": [
    "# Empirical bootstrap based Confidence Interval"
   ]
  },
  {
   "cell_type": "code",
   "execution_count": 12,
   "metadata": {
    "id": "1Z7NCqEcYNZ4",
    "outputId": "04b1a8a4-89e4-4edb-cc7b-504947fc3116"
   },
   "outputs": [
    {
     "data": {
      "image/png": "[encoded data removed]",
      "text/plain": [
       "<Figure size 432x288 with 1 Axes>"
      ]
     },
     "metadata": {
      "needs_background": "light"
     },
     "output_type": "display_data"
    },
    {
     "name": "stdout",
     "output_type": "stream",
     "text": [
      "95.0 confidence interval 162.0 and 176.0\n"
     ]
    }
   ],
   "source": [
    "import numpy\n",
    "from pandas import read_csv\n",
    "from sklearn.utils import resample\n",
    "from sklearn.metrics import accuracy_score\n",
    "from matplotlib import pyplot\n",
    "\n",
    "# load dataset\n",
    "# A Sample(x) is collected from Population\n",
    "x = numpy.array([180,162,158,172,168,150,171,183,165,176])\n",
    "\n",
    "# configure bootstrap\n",
    "\n",
    "# Define no of bootstrap samples to be created (k(=n_iterations))\n",
    "# Size of each bootstrap samples(m which can be <= size of Sample x; higher the better)\n",
    "n_iterations = 1000\n",
    "n_size = int(len(x)) # We can give values less than n too like 9 or 8 or 7..\n",
    "\n",
    "# run bootstrap\n",
    "\n",
    "# CI of variable \"Median\" is to be calculated with 95% Confidence level\n",
    "medians = list()\n",
    "\n",
    "# Creation of k(=n_iterations) bootstrap samples of size m(=n_size)\n",
    "for i in range(n_iterations):\n",
    "    # resample just created a bootstrap sample from Sample x\n",
    "    s = resample(x, n_samples=n_size);\n",
    "    \n",
    "    # Median of that bootstrap sample is calculated and appended in list\n",
    "    m = numpy.median(s);\n",
    "    #print(m)\n",
    "    medians.append(m)\n",
    "\n",
    "# print(\"Medians:  \",medians)\n",
    "# medians = sorted(medians)\n",
    "# print(\"Sorted Medians:  \",medians)\n",
    "\n",
    "# plot scores\n",
    "pyplot.hist(medians)\n",
    "pyplot.show()\n",
    "\n",
    "# Below code is Equivalent to ur Generic formula for CI in notes\n",
    "# confidence intervals\n",
    "alpha = 0.95\n",
    "p = ((1.0-alpha)/2.0) * 100\n",
    "lower =  numpy.percentile(medians, p)\n",
    "\n",
    "p = (alpha+((1.0-alpha)/2.0)) * 100\n",
    "upper =  numpy.percentile(medians, p)\n",
    "print('%.1f confidence interval %.1f and %.1f' % (alpha*100, lower, upper))\n",
    "\n"
   ]
  }
 ],
 "metadata": {
  "colab": {
   "name": "12.23.ipynb",
   "provenance": []
  },
  "kernelspec": {
   "display_name": "Python 3",
   "language": "python",
   "name": "python3"
  },
  "language_info": {
   "codemirror_mode": {
    "name": "ipython",
    "version": 3
   },
   "file_extension": ".py",
   "mimetype": "text/x-python",
   "name": "python",
   "nbconvert_exporter": "python",
   "pygments_lexer": "ipython3",
   "version": "3.8.3"
  }
 },
 "nbformat": 4,
 "nbformat_minor": 1
}
