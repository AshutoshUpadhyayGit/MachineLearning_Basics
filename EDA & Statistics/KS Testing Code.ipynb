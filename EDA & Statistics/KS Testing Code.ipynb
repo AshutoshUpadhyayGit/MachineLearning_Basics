{
  "nbformat": 4,
  "nbformat_minor": 0,
  "metadata": {
    "colab": {
      "name": "12.26.ipynb",
      "provenance": []
    },
    "kernelspec": {
      "display_name": "Python 3",
      "language": "python",
      "name": "python3"
    }
  },
  "cells": [
    {
      "cell_type": "markdown",
      "metadata": {
        "id": "G00e-lK26-wc"
      },
      "source": [
        "# K-S Test"
      ]
    },
    {
      "cell_type": "code",
      "metadata": {
        "id": "VVaUsg6J6-we",
        "colab": {
          "base_uri": "https://localhost:8080/",
          "height": 337
        },
        "outputId": "a32b9b19-6f0b-49c0-b645-d9b0be938ea8"
      },
      "source": [
        "import numpy as np\n",
        "import seaborn as sns\n",
        "from scipy import stats\n",
        "import matplotlib.pyplot as plt\n",
        "\n",
        "#generate a gaussian r.v X\n",
        "x = stats.norm.rvs(size=1000);\n",
        "print(len(x),type(x))\n",
        "sns.set_style('whitegrid')\n",
        "sns.kdeplot(x, bw=0.5)\n",
        "plt.show()"
      ],
      "execution_count": 1,
      "outputs": [
        {
          "output_type": "stream",
          "name": "stdout",
          "text": [
            "1000 <class 'numpy.ndarray'>\n"
          ]
        },
        {
          "output_type": "stream",
          "name": "stderr",
          "text": [
            "/usr/local/lib/python3.7/dist-packages/seaborn/distributions.py:1699: FutureWarning: The `bw` parameter is deprecated in favor of `bw_method` and `bw_adjust`. Using 0.5 for `bw_method`, but please see the docs for the new parameters and update your code.\n",
            "  warnings.warn(msg, FutureWarning)\n"
          ]
        },
        {
          "output_type": "display_data",
          "data": {
            "image/png": "[encoded data removed]",
            "text/plain": [
              "<Figure size 432x288 with 1 Axes>"
            ]
          },
          "metadata": {}
        }
      ]
    },
    {
      "cell_type": "code",
      "metadata": {
        "id": "Yc6xyZVd6-ws",
        "colab": {
          "base_uri": "https://localhost:8080/"
        },
        "outputId": "226eaf76-7b19-451d-e820-4537ea6543de"
      },
      "source": [
        "stats.kstest(x, 'norm')"
      ],
      "execution_count": 2,
      "outputs": [
        {
          "output_type": "execute_result",
          "data": {
            "text/plain": [
              "KstestResult(statistic=0.020794538290682216, pvalue=0.7719893044992785)"
            ]
          },
          "metadata": {},
          "execution_count": 2
        }
      ]
    },
    {
      "cell_type": "markdown",
      "source": [
        "Conclusion:\n",
        "> Here, the p value is > 5%, Hence null hypothesis that both r.v has same distribution is True"
      ],
      "metadata": {
        "id": "HQiH__ZZhr3b"
      }
    },
    {
      "cell_type": "markdown",
      "source": [
        ""
      ],
      "metadata": {
        "id": "alKnii9who9e"
      }
    },
    {
      "cell_type": "code",
      "metadata": {
        "id": "BndtAi0L6-w0",
        "colab": {
          "base_uri": "https://localhost:8080/",
          "height": 320
        },
        "outputId": "6456c32b-b3e1-4177-afb8-4ee8a4da3cd4"
      },
      "source": [
        "# Y ~ Continous Uniform Distribution(0,1)\n",
        "y = np.random.uniform(0,1,10000);\n",
        "sns.kdeplot(np.array(y), bw=0.1)\n",
        "plt.show()"
      ],
      "execution_count": 3,
      "outputs": [
        {
          "output_type": "stream",
          "name": "stderr",
          "text": [
            "/usr/local/lib/python3.7/dist-packages/seaborn/distributions.py:1699: FutureWarning: The `bw` parameter is deprecated in favor of `bw_method` and `bw_adjust`. Using 0.1 for `bw_method`, but please see the docs for the new parameters and update your code.\n",
            "  warnings.warn(msg, FutureWarning)\n"
          ]
        },
        {
          "output_type": "display_data",
          "data": {
            "image/png": "[encoded data removed]",
            "text/plain": [
              "<Figure size 432x288 with 1 Axes>"
            ]
          },
          "metadata": {
            "needs_background": "light"
          }
        }
      ]
    },
    {
      "cell_type": "code",
      "metadata": {
        "colab": {
          "base_uri": "https://localhost:8080/",
          "height": 70
        },
        "id": "-dEdUsCISnvk",
        "outputId": "977924c5-bceb-43cc-9405-9fcf605b8596"
      },
      "source": [
        "!pip3 install scipy==1.6.3\n",
        "import scipy\n",
        "np.__version__\n",
        "scipy.__version__"
      ],
      "execution_count": 4,
      "outputs": [
        {
          "output_type": "stream",
          "name": "stdout",
          "text": [
            "Requirement already satisfied: scipy==1.6.3 in /usr/local/lib/python3.7/dist-packages (1.6.3)\n",
            "Requirement already satisfied: numpy<1.23.0,>=1.16.5 in /usr/local/lib/python3.7/dist-packages (from scipy==1.6.3) (1.19.5)\n"
          ]
        },
        {
          "output_type": "execute_result",
          "data": {
            "application/vnd.google.colaboratory.intrinsic+json": {
              "type": "string"
            },
            "text/plain": [
              "'1.6.3'"
            ]
          },
          "metadata": {},
          "execution_count": 4
        }
      ]
    },
    {
      "cell_type": "code",
      "metadata": {
        "id": "macSZRAt6-w6",
        "colab": {
          "base_uri": "https://localhost:8080/"
        },
        "outputId": "2a567984-6757-45b1-c24b-54a54d502c6a"
      },
      "source": [
        "stats.kstest(y, x)"
      ],
      "execution_count": 5,
      "outputs": [
        {
          "output_type": "execute_result",
          "data": {
            "text/plain": [
              "KstestResult(statistic=0.5006, pvalue=1.864386423022779e-11)"
            ]
          },
          "metadata": {},
          "execution_count": 5
        }
      ]
    },
    {
      "cell_type": "markdown",
      "source": [
        "Conclusion:\n",
        "> Here, the p value is < 5%, Hence null hypothesis that both r.v has same distribution is Rejected"
      ],
      "metadata": {
        "id": "XIGURfxciVZQ"
      }
    }
  ]
}